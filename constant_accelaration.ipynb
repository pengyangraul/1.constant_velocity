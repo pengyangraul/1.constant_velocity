{
 "cells": [
  {
   "cell_type": "markdown",
   "metadata": {},
   "source": [
    "---\n",
    "title: \"Constant Accelaration\"\n",
    "authro: Yang Peng\n",
    "institute: California State University, Northridge\n",
    "format: \n",
    "  html:\n",
    "    toc: true\n",
    "    code-fold: false\n",
    "    page-layout: full\n",
    "    fig-cap-location: bottom\n",
    "    number-sections: true\n",
    "    number-depth: 2\n",
    "jupyter: python3\n",
    "---"
   ]
  },
  {
   "cell_type": "markdown",
   "metadata": {},
   "source": [
    "Let's take a look at another motion of a cart on a track.\n",
    "Let us plot the velocity along $x$ as a function of time $t$.\n",
    "\n",
    "![Constant accelaration motion.](accelaration.png){#fig-accelaration_plot}.\n",
    "\n",
    "Clearly this looks like a linear function. Just like we did with a position-time graph before, we can fit a linear function to this data (for the part where it is speeding up). The equation looks like\n",
    "$$\n",
    "v = (0.0577 \\mathrm{m/s^2})t - 0.0767 \\mathrm{m/s}.\n",
    "$$\n",
    "Note that the first first term linear in $t$ is the accelaration. We can write the average accelaration as\n",
    "$$\n",
    "a_{avg} = \\frac{\\Delta v}{\\Delta t}.\n",
    "$$\n",
    "If we plot the position versus time, we have the following graph.\n",
    "![Constant accelaration motion (position vs time)](accelaration_position_time.png)"
   ]
  },
  {
   "cell_type": "markdown",
   "metadata": {},
   "source": [
    "# Modeling the Velocity\n",
    "First, let's try to make a model that gives the same velocity graph as above. Since it's just a linear function, we can use the same method that we used to plot position vs. time for constant velocity (from the last section). \n",
    "\n",
    "We can solve the final velocity\n",
    "$$\n",
    "a = \\frac{v_2 - v_1}{\\Delta t},\n",
    "$$\n",
    "$$\n",
    "v_2 = v_1 + a \\Delta t.\n",
    "$$"
   ]
  },
  {
   "cell_type": "markdown",
   "metadata": {},
   "source": [
    "This means that instead of updating the position using the velocity, I can just update the velocity using the acceleration. Let's code this."
   ]
  },
  {
   "cell_type": "markdown",
   "metadata": {},
   "source": [
    "Before we do that, we need some starting values. We want to make this look EXACTLY like the data, so I am going to use the following:\n",
    "\n",
    "- $x = 1.33 \\mathrm{m}$\n",
    "- $v = 0.0 \\mathrm{m/s}$\n",
    "- $a = 0.0577 \\mathrm{m/s^2}$\n",
    "- $t = 1.4 \\mathrm{s}$"
   ]
  },
  {
   "cell_type": "markdown",
   "metadata": {},
   "source": [
    "Let us create a code very similar to the constant velocity code. "
   ]
  },
  {
   "cell_type": "code",
   "execution_count": 1,
   "metadata": {},
   "outputs": [
    {
     "data": {
      "image/png": "[encoded data removed]",
      "text/plain": [
       "<Figure size 432x288 with 1 Axes>"
      ]
     },
     "metadata": {
      "needs_background": "light"
     },
     "output_type": "display_data"
    }
   ],
   "source": [
    "import matplotlib.pyplot as plt\n",
    "#Staring conditions below\n",
    "x=1.33\n",
    "v=0.0\n",
    "a=0.0577\n",
    "ts=1.4\n",
    "dt=0.05\n",
    "t=0\n",
    "vlist = []\n",
    "tlist = []\n",
    "\n",
    "while t<ts:\n",
    "  t=t+dt\n",
    "  tlist.append(t)\n",
    "  vlist.append(v)\n",
    "\n",
    "#this is the real loop  \n",
    "while t<5:\n",
    "  #calculate the new velocity\n",
    "  v = v+ a*dt\n",
    "  t = t+ dt\n",
    "  tlist.append(t)\n",
    "  vlist.append(v)\n",
    "\n",
    "  \n",
    "plt.plot(tlist,vlist,'.')\n",
    "plt.show()"
   ]
  },
  {
   "cell_type": "code",
   "execution_count": null,
   "metadata": {},
   "outputs": [],
   "source": []
  },
  {
   "cell_type": "markdown",
   "metadata": {},
   "source": [
    "# Modeling position\n",
    "- How can we model the position of the cart as well?\n",
    "- Can we use the expression for constant velocity when the velocity isn't even constant?\n",
    "- Let's go back to the definition of the velocity.\n",
    "- When velocity is changing, we should consider the _average velocity_\n",
    "$$\n",
    "v_{avg} = \\frac{\\Delta x}{\\Delta t} = \\frac{x_2 - x_1}{\\Delta t}.\n",
    "$$\n",
    "- On the other hand, when the velocity is changing at a constant rate, the average velocity can also be written as\n",
    "$$\n",
    "v_{avg} = \\frac{v_1 + v_2}{2}.\n",
    "$$\n",
    "- We can write the position update formula\n",
    "$$\n",
    "x_2 = x_1 + v_{avg}\\Delta t = x_1 + \\left(\\frac{v_1 + v_2}{2}\\right)\\Delta t.\n",
    "$$\n",
    "- We can remove the final velocity $v_2$ which leads to \n",
    "$$\n",
    "x_2 = x_1 + \\left(\\frac{v_1 + v_1 + a\\Delta t}{2}\\right)\\Delta t = x_1 + v_1 \\Delta t + \\frac{1}{2}a\\left(\\Delta t \\right)^2.\n",
    "$$"
   ]
  },
  {
   "cell_type": "code",
   "execution_count": 5,
   "metadata": {},
   "outputs": [
    {
     "name": "stdout",
     "output_type": "stream",
     "text": [
      "1.6071763749999988\n"
     ]
    },
    {
     "data": {
      "image/png": "[encoded data removed]",
      "text/plain": [
       "<Figure size 432x288 with 1 Axes>"
      ]
     },
     "metadata": {
      "needs_background": "light"
     },
     "output_type": "display_data"
    }
   ],
   "source": [
    "#Staring conditions below\n",
    "x=1.33\n",
    "v=0.0\n",
    "a=0.0577\n",
    "ts=1.4\n",
    "dt=0.05\n",
    "t=0\n",
    "tlist = []\n",
    "vlist = []\n",
    "xlist = []\n",
    "#this next line makes a graph (don't worry)\n",
    "\n",
    "#this is a loop to waste time\n",
    "while t<ts:\n",
    "  t=t+dt\n",
    "  tlist.append(t)\n",
    "  vlist.append(v)\n",
    "  xlist.append(x)\n",
    "  \n",
    "#this is the real loop  \n",
    "while t<4.4:\n",
    "  #calculate the new velocity\n",
    "  t = t + dt\n",
    "  v= v + a * dt \n",
    "  x = x + v*dt + 0.5*a*dt**2\n",
    "#   x = x + v*dt + 0.5*a*dt**2\n",
    "  tlist.append(t)\n",
    "  vlist.append(v)\n",
    "  xlist.append(x)\n",
    "plt.plot(tlist, xlist, '-b') \n",
    "print(x)"
   ]
  },
  {
   "cell_type": "markdown",
   "metadata": {},
   "source": [
    "# Catching Up to Another Car\n",
    "You are a police officer in a stationary car. Another car drives past you traveling at a constant speed of 40 m/s. It takes you 3 seconds to put your car into drive and then you accelerate to catch the speeder. Your car has a constant acceleration of 6 $\\mathrm{m/s^2}$ with a maximum speed of 60 m/s. How long before you catch the car and how far are you from your starting position?\n",
    "\n",
    "This isn't the simplest problem because it has multiple parts. Here's what we need to do:\n",
    "\n",
    "- Model the motion of the speeding car. This is will be pretty easy since it's moving at a constant speed.\n",
    "- Wait 3 seconds for the police car to start moving\n",
    "- Model the motion of the police car accelerating\n",
    "- Check to see if the police car reaches its maximum speed, if so make the acceleration zero\n",
    "- Check to see if the two cars have the same position.\n",
    "\n"
   ]
  },
  {
   "cell_type": "markdown",
   "metadata": {},
   "source": []
  },
  {
   "cell_type": "code",
   "execution_count": 12,
   "metadata": {},
   "outputs": [
    {
     "data": {
      "image/png": "[encoded data removed]",
      "text/plain": [
       "<Figure size 432x288 with 1 Axes>"
      ]
     },
     "metadata": {
      "needs_background": "light"
     },
     "output_type": "display_data"
    },
    {
     "name": "stdout",
     "output_type": "stream",
     "text": [
      "time to catch =  24.00499999999951  seconds\n",
      "position of police car =  960.2999999999453  m\n",
      "position of speeder =  960.2000000000813  m\n"
     ]
    }
   ],
   "source": [
    "#now for initial conditions\n",
    "#both cars start at x = 0\n",
    "xp=0\n",
    "xs=0\n",
    "xplist = []\n",
    "xslist = []\n",
    "tlist = []\n",
    "vs=40\n",
    "#this is the max speed of police\n",
    "vpmax=60\n",
    "vp=0\n",
    "#acceleration of police.\n",
    "#ap is the starting value\n",
    "ap=0\n",
    "#apa is the value when acceleratinge\n",
    "apa=6\n",
    "t=0\n",
    "dt=0.005\n",
    "#this is the time to wait for the start of police\n",
    "twait=3\n",
    "#instead of doing a loop for a certain amount of time\n",
    "#we make a loop that goes until the police catches\n",
    "#the speeder\n",
    "\n",
    "while xp<=xs:\n",
    "  #update the position of the speeder\n",
    "  xs = xs + vs*dt \n",
    "  #set a to zero\n",
    "  ap=0\n",
    "\n",
    "  #if it's after 3 sec and before they meet, set a to 6\n",
    "  if (t>twait) and (vp<vpmax):\n",
    "    ap=apa\n",
    "    \n",
    "  vp += ap*dt\n",
    "  xp += vp*dt + 0.5*ap*dt**2\n",
    "  t += dt \n",
    "  xplist.append(xp)\n",
    "  xslist.append(xs)\n",
    "  tlist.append(t)\n",
    "plt.plot(tlist,xplist,'-r',label='police')\n",
    "plt.plot(tlist,xslist,'--b',label='speeder')\n",
    "plt.show()\n",
    "#after the loop ends, print time and position\n",
    "print(\"time to catch = \", t,\" seconds\")\n",
    "print(\"position of police car = \",xp,\" m\")\n",
    "print(\"position of speeder = \",xs,\" m\")"
   ]
  },
  {
   "cell_type": "markdown",
   "metadata": {},
   "source": [
    "# Homework\n",
    "1. A car starts from rest and reaches a speed of 30 m/s in 1.3 seconds. What is the average acceleration of the car?\n",
    "\n",
    "1. A rocket has an acceleration of 10.6 $\\mathrm{m/s^2}$ and is traveling with a velocity of 41 m/s. How fast will the rocket be traveling after 3.2 seconds?\n",
    "\n",
    "1. A rocket is traveling horizontal with an initial speed of 72 m/s at which point it opens a parachute to slow down. This gives the rocket an acceleration of -12.2 m/s^2^. How long will it take to stop? How far will it travel before it stops?\n",
    "\n",
    "1. You are designing a stunt in which a car crashes into a hay barrier (to safely stop it). In order to protect the driver, the car needs to have an acceleration no greater than -20 $\\mathrm{m/s^2}$. How thick should your hay barrier be? (Assuming constant accelaration when the car is moving in the hay barrier.) Write a python program to plot the position vs time, and velocity vs time diagrams.\n",
    "\n",
    "2. Two cars are moving toward each other. Car A starts from rest and has an acceleration of 8 $\\mathrm{m/s^2}$. Car B starts 2000 meters ahead of car A and it is already moving with a speed of 30 m/s (in the opposite direction) with an acceleration of 4 $\\mathrm{m/s^2}$. When and where do the two cars meet? Write a python program to plot position vs time diagram. "
   ]
  }
 ],
 "metadata": {
  "interpreter": {
   "hash": "df1fa0d82bdabb5288f7efc0788d29c4d5bb5f690328690a3d32d2cd65de760c"
  },
  "kernelspec": {
   "display_name": "Python 3.10.4 ('default')",
   "language": "python",
   "name": "python3"
  },
  "language_info": {
   "codemirror_mode": {
    "name": "ipython",
    "version": 3
   },
   "file_extension": ".py",
   "mimetype": "text/x-python",
   "name": "python",
   "nbconvert_exporter": "python",
   "pygments_lexer": "ipython3",
   "version": "3.10.4"
  },
  "orig_nbformat": 4
 },
 "nbformat": 4,
 "nbformat_minor": 2
}
