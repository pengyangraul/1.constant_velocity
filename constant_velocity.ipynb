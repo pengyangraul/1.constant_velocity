{
  "cells": [
    {
      "cell_type": "raw",
      "metadata": {},
      "source": [
        "---\n",
        "title: \"Constant velocity motion\"\n",
        "author: \"Yang Peng\"\n",
        "institute: \"California State University, Northridge\"\n",
        "format:\n",
        "    revealjs:\n",
        "        chalkboard: true\n",
        "        incremental: true  \n",
        "        echo: true\n",
        "        theme: sky\n",
        "        smaller: true\n",
        "        scrollable: true\n",
        "        slide-number: true\n",
        "        code-fold: true\n",
        "        multiplex: true\n",
        "---"
      ]
    },
    {
      "cell_type": "markdown",
      "metadata": {},
      "source": [
        "### Science and Models\n",
        "\n",
        "- Models $\\Leftrightarrow$ real life. \n",
        "- If the models agree with the stuff we see, great :)\n",
        "- If not, we need to change the models. \n",
        "\n",
        ". . .\n",
        "\n",
        "These models could be: \n",
        "\n",
        "- Actual physical models (like a globe is a model of the Earth) \n",
        "- Conceptual models \n",
        "- Mathematical models \n",
        "- Computational models \n",
        "\n",
        ". . .\n",
        "\n",
        "That's what science is all about. These models are just models, they don't have to be the _TRUTH_, they just have to work."
      ]
    },
    {
      "cell_type": "markdown",
      "metadata": {},
      "source": [
        "---\n",
        "\n",
        "### Start with an observation\n",
        "\n",
        "- Let's make a model.\n",
        "- It won't need come from our real world.\n",
        "- Example: a moving cart.\n",
        "\n",
        ". . .\n",
        "\n",
        "<iframe width=\"420\" height=\"315\" src=\"https://www.youtube.com/embed/ugLCcBO_sjk\" title=\"Introduction to Physics and Python\" frameborder=\"0\" allow=\"accelerometer; autoplay; clipboard-write; encrypted-media; gyroscope; picture-in-picture\" allowfullscreen></iframe>\n",
        "\n",
        "---"
      ]
    },
    {
      "cell_type": "markdown",
      "metadata": {},
      "source": [
        "### collecting data\n",
        "\n",
        "- Suppose that the cart moves along the x-axis.\n",
        "- Data: Position $x$ of the cart, time $t$.\n",
        "\n",
        ". . .\n",
        "\n",
        "<html>\n",
        "<body>\n",
        "   <script type=\"text/javascript\" src=\"plotlyjs-bundle.js\"></script>\n",
        "   <script type=\"text/javascript\" src=\"figure.js\"></script>\n",
        "   <div id=\"abcdec0a-5033-439e-b401-3499e8b734e3\" style=\"width: 1020px; height: 473px;\" class=\"plotly-graph-div\"></div>\n",
        "   <script type=\"text/javascript\">\n",
        "            (function(){\n",
        "                window.PLOTLYENV={'BASE_URL': 'https://plotly.com'};\n",
        "                var gd = document.getElementById('abcdec0a-5033-439e-b401-3499e8b734e3')\n",
        "                var resizeDebounce = null;\n",
        "                function resizePlot() {\n",
        "                    var bb = gd.getBoundingClientRect();\n",
        "                    Plotly.relayout(gd, {\n",
        "                        width: bb.width,\n",
        "                        height: bb.height\n",
        "                    });\n",
        "                }\n",
        "                window.addEventListener('resize', function() {\n",
        "                    if (resizeDebounce) {\n",
        "                        window.clearTimeout(resizeDebounce);\n",
        "                    }\n",
        "                    resizeDebounce = window.setTimeout(resizePlot, 100);\n",
        "                });\n",
        "                Plotly.plot(gd,  {\n",
        "                    data: figure.data,\n",
        "                    layout: figure.layout,\n",
        "                    frames: figure.frames,\n",
        "                    config: {\"showLink\": true, \"linkText\": \"Export to plotly.com\", \"mapboxAccessToken\": \"pk.eyJ1IjoiY2hyaWRkeXAiLCJhIjoiY2lxMnVvdm5iMDA4dnhsbTQ5aHJzcGs0MyJ9.X9o_rzNLNesDxdra4neC_A\"}\n",
        "                });\n",
        "           }());\n",
        "    </script>\n",
        "    </body>\n",
        "</html>"
      ]
    },
    {
      "cell_type": "markdown",
      "metadata": {},
      "source": [
        "---\n",
        "\n",
        "### Position\n",
        "- The cart moves along $x$ direction.\n",
        "- We could draw that like this:\n",
        " \n",
        ". . .\n",
        "\n",
        "![Position of the moving cart](position_cart.jpg){#fig-position-cart}\n",
        "\n",
        "- The $x$ value here tells where the cart is.\n",
        "- From this, we can define the term _average velocity_ (in $x$ direction) as\n",
        "    $$\n",
        "    v_{avg} = \\frac{\\Delta x}{\\Delta t}.\n",
        "    $$\n",
        "- $\\Delta x$: the distance the cart travels \n",
        "- $\\Delta t$: is the amount of time for moving such a distance $\\Delta x$."
      ]
    },
    {
      "cell_type": "markdown",
      "metadata": {},
      "source": [
        "---\n",
        "\n",
        "### Velocity as slope\n",
        "\n",
        "- The cart travels from $x_1$ to $x_2$\n",
        "- The average velocity is \n",
        "    $$\n",
        "    v_{avg} = \\frac{x_2 - x_1}{\\Delta t}.\n",
        "    $$\n",
        "- Constant velocity: $v_{avg}$ won't change.\n",
        "- If we start from $x_1$, the final position after time $\\Delta t$ can be computed as\n",
        "    $$\n",
        "    x_2 = x_1 + v_{avg}t.\n",
        "    $$"
      ]
    },
    {
      "cell_type": "markdown",
      "metadata": {},
      "source": [
        "---\n",
        "\n",
        "### Simulation of constant motion"
      ]
    },
    {
      "cell_type": "code",
      "execution_count": 25,
      "metadata": {},
      "outputs": [
        {
          "data": {
            "image/png": "[encoded data removed]",
            "text/plain": [
              "<Figure size 432x288 with 1 Axes>"
            ]
          },
          "metadata": {
            "needs_background": "light"
          },
          "output_type": "display_data"
        }
      ],
      "source": [
        "import matplotlib.pyplot as plt\n",
        "# Staring conditions below\n",
        "x = 0\n",
        "v = 0.437\n",
        "t = 0\n",
        "dt = 0.05\n",
        "xlist = []\n",
        "tlist = []\n",
        "\n",
        "# this is a loop\n",
        "while t<1:\n",
        "  #calculate the new position\n",
        "  xlist.append(x+v*t)\n",
        "  tlist.append(t)\n",
        "  t += dt\n",
        "\n",
        "plt.plot(tlist,xlist,'o-b')\n",
        "plt.xlabel('Time')\n",
        "plt.ylabel('Position')\n",
        "plt.show()"
      ]
    },
    {
      "cell_type": "markdown",
      "metadata": {},
      "source": [
        "---"
      ]
    },
    {
      "cell_type": "markdown",
      "metadata": {},
      "source": [
        "### Homework\n",
        "\n",
        "1. Suppose I have two cars. Car A starts at $x = 0$ m and travels with speed of $5$ m/s. Car B starts at $x = 15$ m and has a speed of $3.5$m/s. If both of these cars are on the same track, when will they meet each other? (Please complete the following code.)\n",
        "    ```{python}\n",
        "    import matplotlib.pyplot as plt\n",
        "    # Staring conditions below\n",
        "    xA =\n",
        "    xB =\n",
        "    vA = \n",
        "    vB = \n",
        "    t = 0\n",
        "    dt = 1\n",
        "    xAlist = []\n",
        "    xBlist = []\n",
        "    tlist = []\n",
        "\n",
        "    # separation between xB and xA\n",
        "    sep_AB = xB - xA\n",
        "\n",
        "    # this is a loop\n",
        "    while sep_AB>=0:\n",
        "    #calculate the new position\n",
        "    xAlist.append()\n",
        "    xBlist.append()\n",
        "    tlist.append(t)\n",
        "    t += dt\n",
        "    sep_AB = xBlist[-1] - xAlist[-1]\n",
        "\n",
        "    plt.plot(tlist,xAlist,'o-.b',label='Car A',markersize=4)\n",
        "    plt.plot(tlist,xBlist,'o-r',label='Car B',markersize=4)\n",
        "    plt.legend()\n",
        "    plt.xlabel(r'$t/s$')\n",
        "    plt.ylabel(r'$x/m$')\n",
        "    plt.show()\n",
        "    ```\n",
        "1. A train leaves Chicago heading towards NY with a speed of 30 m/s. 2.5 hours later, a train leaves NY heading towards Chicago traveling at 41 m/s. If the distance between the cities is 1200 km, how far from Chicago do they two trains meet? How long has the Chicago train been traveling up to this point? \n",
        "First solve this problem without a computer. Then write a python program to verify your solution."
      ]
    }
  ],
  "metadata": {
    "kernelspec": {
      "display_name": "Python 3.10.4 ('default')",
      "language": "python",
      "name": "python3"
    },
    "language_info": {
      "codemirror_mode": {
        "name": "ipython",
        "version": 3
      },
      "file_extension": ".py",
      "mimetype": "text/x-python",
      "name": "python",
      "nbconvert_exporter": "python",
      "pygments_lexer": "ipython3",
      "version": "3.10.4"
    },
    "vscode": {
      "interpreter": {
        "hash": "df1fa0d82bdabb5288f7efc0788d29c4d5bb5f690328690a3d32d2cd65de760c"
      }
    }
  },
  "nbformat": 4,
  "nbformat_minor": 4
}
