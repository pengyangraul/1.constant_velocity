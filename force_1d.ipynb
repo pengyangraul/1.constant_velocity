{
 "cells": [
  {
   "cell_type": "markdown",
   "metadata": {},
   "source": [
    "---\n",
    "title: \"Forces in 1D\"\n",
    "authro: Yang Peng\n",
    "institute: California State University, Northridge\n",
    "format: \n",
    "  html:\n",
    "    toc: true\n",
    "    code-fold: false\n",
    "    page-layout: full\n",
    "    fig-cap-location: bottom\n",
    "    number-sections: true\n",
    "    number-depth: 2\n",
    "jupyter: python3\n",
    "---"
   ]
  },
  {
   "cell_type": "markdown",
   "metadata": {},
   "source": [
    "# Newton's second law\n",
    "The relation between force $\\boldsymbol{F}$ and accelaration $\\boldsymbol{a}$ is\n",
    "$$\n",
    "\\boldsymbol{F} = m \\boldsymbol{a}.\n",
    "$$\n",
    "- Here, $\\boldsymbol{F}$ and $\\boldsymbol{a}$ are vectors, with magnitudes and directions. \n",
    "- In 1D, the directions are either left or right. One can use _positive_ or _negative_ sign to indicate the direction. \n",
    "- $\\boldsymbol{F} = \\boldsymbol{F}_{net}$ is the net (total) force on the object, namely\n",
    "  $$\n",
    "  \\boldsymbol{F}_{net} = \\sum_j \\boldsymbol{F}_j.\n",
    "  $$"
   ]
  },
  {
   "cell_type": "markdown",
   "metadata": {},
   "source": [
    "## Acceleration and Forces on a Lunar Lander\n",
    "You are leading a team that is building the return module for the next lunar\n",
    "expedition.\n",
    "You have designed a module that breaches if exposed to air resistance forces above $10^6$ N for more than $5$ s. The mass of the module is $5000$ kg. "
   ]
  },
  {
   "cell_type": "code",
   "execution_count": 3,
   "metadata": {},
   "outputs": [
    {
     "data": {
      "text/plain": [
       "Text(0, 0.5, 'D [N]')"
      ]
     },
     "execution_count": 3,
     "metadata": {},
     "output_type": "execute_result"
    },
    {
     "data": {
      "image/png": "[encoded data removed]",
      "text/plain": [
       "<Figure size 432x288 with 1 Axes>"
      ]
     },
     "metadata": {
      "needs_background": "light"
     },
     "output_type": "display_data"
    }
   ],
   "source": [
    "import matplotlib.pyplot as plt\n",
    "import numpy as np\n",
    "t,a = np.loadtxt('./force_1d_files/reentry.txt',unpack=True)\n",
    "W = 49000.0 # N\n",
    "m = 5000.0 # kg\n",
    "D = W + m*a \n",
    "plt.plot(t,D)\n",
    "plt.xlabel('t [s]')\n",
    "plt.ylabel('D [N]')"
   ]
  },
  {
   "cell_type": "code",
   "execution_count": null,
   "metadata": {},
   "outputs": [],
   "source": []
  }
 ],
 "metadata": {
  "kernelspec": {
   "display_name": "Python 3.10.4 ('default')",
   "language": "python",
   "name": "python3"
  },
  "language_info": {
   "codemirror_mode": {
    "name": "ipython",
    "version": 3
   },
   "file_extension": ".py",
   "mimetype": "text/x-python",
   "name": "python",
   "nbconvert_exporter": "python",
   "pygments_lexer": "ipython3",
   "version": "3.10.4"
  },
  "orig_nbformat": 4,
  "vscode": {
   "interpreter": {
    "hash": "df1fa0d82bdabb5288f7efc0788d29c4d5bb5f690328690a3d32d2cd65de760c"
   }
  }
 },
 "nbformat": 4,
 "nbformat_minor": 2
}
